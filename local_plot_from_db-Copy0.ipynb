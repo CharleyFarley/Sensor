{
 "metadata": {
  "name": ""
 },
 "nbformat": 3,
 "nbformat_minor": 0,
 "worksheets": [
  {
   "cells": [
    {
     "cell_type": "code",
     "collapsed": false,
     "input": [
      "import sqlite3\n",
      "import pandas as pd\n",
      "import numpy as np\n",
      "import matplotlib\n",
      "#matplotlib.use('Agg')\n",
      "import matplotlib.pyplot as plt\n",
      "import pylab\n",
      "import datetime as dt\n",
      "import scipy as sci\n",
      "from math import log\n",
      "from matplotlib import dates\n",
      "\n",
      "%matplotlib inline"
     ],
     "language": "python",
     "metadata": {},
     "outputs": [],
     "prompt_number": 421
    },
    {
     "cell_type": "code",
     "collapsed": false,
     "input": [
      "#conn=sqlite3.connect(\"Log.db\")\n",
      "#curs=conn.cursor()\n",
      "\n",
      "#bla =  \"INSERT INTO temp values('\" + str(timestamp) + \"','\" + str(temperature) + \"','\" + str(temperature1) + \"','\" + str(light) + \"','\" +  str(humidity) + \"','\" +  str(present) + \"')\"\n",
      "\n",
      "#curs.execute(bla)\n",
      "\n",
      "#conn.commit()\n",
      "#conn.close()"
     ],
     "language": "python",
     "metadata": {},
     "outputs": [],
     "prompt_number": 422
    },
    {
     "cell_type": "code",
     "collapsed": false,
     "input": [
      "conn = sqlite3.connect(\"/home/matthew/Dropbox/Apps/SensorPi/Log.db\")\n",
      "curs = conn.cursor()\n",
      "\n",
      "\n",
      "logTab = pd.DataFrame(curs.execute(\"select * from temp where timsetamp > '2014-09-28 00:00:00';\").fetchall())\n",
      "#logTab = pd.DataFrame(curs.execute(\"select * from temp;\").fetchall())\n",
      "\n",
      "logTab.columns = ['timestamp','temp1','temp2','light1','humidity1','PIR']\n",
      "\n",
      "logTab['timestamp'] = pd.to_datetime(logTab['timestamp'])#.astype(dt.datetime)\n",
      "\n",
      "\n",
      "\n",
      "#bla = pd.DataFrame(bla)\n",
      "#logTab.head()"
     ],
     "language": "python",
     "metadata": {},
     "outputs": [],
     "prompt_number": 423
    },
    {
     "cell_type": "code",
     "collapsed": false,
     "input": [
      "conn.close()\n",
      "\n",
      "logTab.tail()"
     ],
     "language": "python",
     "metadata": {},
     "outputs": [
      {
       "html": [
        "<div style=\"max-height:1000px;max-width:1500px;overflow:auto;\">\n",
        "<table border=\"1\" class=\"dataframe\">\n",
        "  <thead>\n",
        "    <tr style=\"text-align: right;\">\n",
        "      <th></th>\n",
        "      <th>timestamp</th>\n",
        "      <th>temp1</th>\n",
        "      <th>temp2</th>\n",
        "      <th>light1</th>\n",
        "      <th>humidity1</th>\n",
        "      <th>PIR</th>\n",
        "    </tr>\n",
        "  </thead>\n",
        "  <tbody>\n",
        "    <tr>\n",
        "      <th>379</th>\n",
        "      <td>2014-09-28 19:15:12</td>\n",
        "      <td> 24.937</td>\n",
        "      <td> 25.2</td>\n",
        "      <td> 450</td>\n",
        "      <td> 55.0</td>\n",
        "      <td> 0</td>\n",
        "    </tr>\n",
        "    <tr>\n",
        "      <th>380</th>\n",
        "      <td>2014-09-28 19:18:08</td>\n",
        "      <td> 24.875</td>\n",
        "      <td> 25.2</td>\n",
        "      <td> 439</td>\n",
        "      <td> 54.7</td>\n",
        "      <td> 0</td>\n",
        "    </tr>\n",
        "    <tr>\n",
        "      <th>381</th>\n",
        "      <td>2014-09-28 19:21:08</td>\n",
        "      <td> 24.875</td>\n",
        "      <td> 25.3</td>\n",
        "      <td> 453</td>\n",
        "      <td> 54.4</td>\n",
        "      <td> 0</td>\n",
        "    </tr>\n",
        "    <tr>\n",
        "      <th>382</th>\n",
        "      <td>2014-09-28 19:24:08</td>\n",
        "      <td> 24.875</td>\n",
        "      <td> 25.3</td>\n",
        "      <td> 465</td>\n",
        "      <td> 55.3</td>\n",
        "      <td> 0</td>\n",
        "    </tr>\n",
        "    <tr>\n",
        "      <th>383</th>\n",
        "      <td>2014-09-28 19:27:15</td>\n",
        "      <td> 24.875</td>\n",
        "      <td> 25.3</td>\n",
        "      <td> 420</td>\n",
        "      <td> 55.0</td>\n",
        "      <td> 0</td>\n",
        "    </tr>\n",
        "  </tbody>\n",
        "</table>\n",
        "<p>5 rows \u00d7 6 columns</p>\n",
        "</div>"
       ],
       "metadata": {},
       "output_type": "pyout",
       "prompt_number": 424,
       "text": [
        "              timestamp   temp1  temp2  light1  humidity1  PIR\n",
        "379 2014-09-28 19:15:12  24.937   25.2     450       55.0    0\n",
        "380 2014-09-28 19:18:08  24.875   25.2     439       54.7    0\n",
        "381 2014-09-28 19:21:08  24.875   25.3     453       54.4    0\n",
        "382 2014-09-28 19:24:08  24.875   25.3     465       55.3    0\n",
        "383 2014-09-28 19:27:15  24.875   25.3     420       55.0    0\n",
        "\n",
        "[5 rows x 6 columns]"
       ]
      }
     ],
     "prompt_number": 424
    },
    {
     "cell_type": "code",
     "collapsed": false,
     "input": [
      "conn1 = sqlite3.connect(\"/home/matthew/Dropbox/Apps/SensorPi/SensorPiB.db\")\n",
      "curs = conn1.cursor()\n",
      "\n",
      "SensorPiLog = pd.DataFrame(curs.execute(\"select * from SensorPiB where timestamp > '2014-09-28 00:00:00';\").fetchall())\n",
      "SensorPiLog.columns = ['timestamp','temp3','temp4','temp5','light2','humidity2']\n",
      "\n",
      "SensorPiLog['timestamp'] = pd.to_datetime(SensorPiLog['timestamp'])#.astype(dt.datetime)\n"
     ],
     "language": "python",
     "metadata": {},
     "outputs": [],
     "prompt_number": 425
    },
    {
     "cell_type": "code",
     "collapsed": false,
     "input": [
      "conn.close()\n",
      "\n",
      "SensorPiLog.tail()"
     ],
     "language": "python",
     "metadata": {},
     "outputs": [
      {
       "html": [
        "<div style=\"max-height:1000px;max-width:1500px;overflow:auto;\">\n",
        "<table border=\"1\" class=\"dataframe\">\n",
        "  <thead>\n",
        "    <tr style=\"text-align: right;\">\n",
        "      <th></th>\n",
        "      <th>timestamp</th>\n",
        "      <th>temp3</th>\n",
        "      <th>temp4</th>\n",
        "      <th>temp5</th>\n",
        "      <th>light2</th>\n",
        "      <th>humidity2</th>\n",
        "    </tr>\n",
        "  </thead>\n",
        "  <tbody>\n",
        "    <tr>\n",
        "      <th>82</th>\n",
        "      <td>2014-09-28 18:21:06</td>\n",
        "      <td> 21.312</td>\n",
        "      <td> 20.000</td>\n",
        "      <td> 20.1</td>\n",
        "      <td>  8472</td>\n",
        "      <td> 66.8</td>\n",
        "    </tr>\n",
        "    <tr>\n",
        "      <th>83</th>\n",
        "      <td>2014-09-28 18:24:05</td>\n",
        "      <td> 21.500</td>\n",
        "      <td> 19.875</td>\n",
        "      <td> 20.3</td>\n",
        "      <td> 11453</td>\n",
        "      <td> 66.1</td>\n",
        "    </tr>\n",
        "    <tr>\n",
        "      <th>84</th>\n",
        "      <td>2014-09-28 18:27:23</td>\n",
        "      <td> 21.687</td>\n",
        "      <td> 19.687</td>\n",
        "      <td> 20.4</td>\n",
        "      <td> 17399</td>\n",
        "      <td> 65.8</td>\n",
        "    </tr>\n",
        "    <tr>\n",
        "      <th>85</th>\n",
        "      <td>2014-09-28 18:30:05</td>\n",
        "      <td> 21.875</td>\n",
        "      <td> 19.562</td>\n",
        "      <td> 20.5</td>\n",
        "      <td> 18866</td>\n",
        "      <td> 65.5</td>\n",
        "    </tr>\n",
        "    <tr>\n",
        "      <th>86</th>\n",
        "      <td>2014-09-28 18:30:22</td>\n",
        "      <td> 21.937</td>\n",
        "      <td> 19.562</td>\n",
        "      <td> 20.5</td>\n",
        "      <td> 18577</td>\n",
        "      <td> 65.5</td>\n",
        "    </tr>\n",
        "  </tbody>\n",
        "</table>\n",
        "<p>5 rows \u00d7 6 columns</p>\n",
        "</div>"
       ],
       "metadata": {},
       "output_type": "pyout",
       "prompt_number": 426,
       "text": [
        "             timestamp   temp3   temp4  temp5  light2  humidity2\n",
        "82 2014-09-28 18:21:06  21.312  20.000   20.1    8472       66.8\n",
        "83 2014-09-28 18:24:05  21.500  19.875   20.3   11453       66.1\n",
        "84 2014-09-28 18:27:23  21.687  19.687   20.4   17399       65.8\n",
        "85 2014-09-28 18:30:05  21.875  19.562   20.5   18866       65.5\n",
        "86 2014-09-28 18:30:22  21.937  19.562   20.5   18577       65.5\n",
        "\n",
        "[5 rows x 6 columns]"
       ]
      }
     ],
     "prompt_number": 426
    },
    {
     "cell_type": "code",
     "collapsed": false,
     "input": [
      "temp1 = pd.DataFrame(logTab[['timestamp','temp1']])\n",
      "temp2 = pd.DataFrame(logTab[['timestamp','temp2']])\n",
      "temp3 = pd.DataFrame(SensorPiLog[['timestamp','temp3']])\n",
      "temp4 = pd.DataFrame(SensorPiLog[['timestamp','temp4']])\n",
      "temp5 = pd.DataFrame(SensorPiLog[['timestamp','temp5']])\n",
      "humidity1 = pd.DataFrame(logTab[['timestamp','humidity1']])\n",
      "humidity2 = pd.DataFrame(SensorPiLog[['timestamp','humidity2']])\n",
      "light1 = pd.DataFrame(logTab[['timestamp','light1']])\n",
      "light2 = pd.DataFrame(SensorPiLog[['timestamp','light2']])\n",
      "\n",
      "\n",
      "# remove all values which are too low or too high\n",
      "temp_iqr = np.percentile(temp1['temp1'],75) - np.percentile(temp1['temp1'],25)\n",
      "temp_upper_limit = np.percentile(temp1['temp1'],75) + (3 * temp_iqr)\n",
      "temp_lower_limit = np.percentile(temp1['temp1'],25) - (3 * temp_iqr)\n"
     ],
     "language": "python",
     "metadata": {},
     "outputs": [],
     "prompt_number": 427
    },
    {
     "cell_type": "code",
     "collapsed": false,
     "input": [
      "temp1 = temp1[(temp1['temp1'] > 0) & (temp1['temp1'] < temp_upper_limit)]\n",
      "temp2 = temp2[(temp2['temp2'] > 0) & (temp2['temp2'] < temp_upper_limit)]\n",
      "temp3 = temp3[(temp3['temp3'] > 0) & (temp3['temp3'] < temp_upper_limit)]\n",
      "temp4 = temp4[(temp4['temp4'] > 0) & (temp4['temp4'] < temp_upper_limit)]\n",
      "temp5 = temp5[(temp5['temp5'] > 0) & (temp5['temp5'] < temp_upper_limit)]\n",
      "humidity1 = humidity1[(humidity1['humidity1'] > 0) & (humidity1['humidity1'] < 100)]\n",
      "humidity2 = humidity2[(humidity2['humidity2'] > 0) & (humidity2['humidity2'] < 100)]\n",
      "light1 = light1[(light1['light1'] > 0)]\n",
      "light2 = light2[(light2['light2'] > 0)]\n",
      "\n",
      "# log the light sensor values to make them more meaningful\n",
      "\n",
      "light1['light1'] = light1['light1'].astype('float64').apply(log)\n",
      "light2['light2'] = light2['light2'].astype('float64').apply(log)"
     ],
     "language": "python",
     "metadata": {},
     "outputs": [],
     "prompt_number": 428
    },
    {
     "cell_type": "code",
     "collapsed": false,
     "input": [
      "meter_readings_db = sqlite3.connect(\"/home/matthew/Dropbox/Apps/Meter Readings for Android/meter_readings.db\")\n",
      "meter_readings_curs = meter_readings_db.cursor()\n",
      "\n",
      "meter_readings_curs.execute(\"drop view if exists temporary;\")\n",
      "meter_readings_curs.execute(\"create view temporary as select datetime(substr(timestamp,0,11),'unixepoch','localtime') as timestamp,reading from readings where type = '1';\")\n",
      "meter_reading_tab = pd.DataFrame(meter_readings_curs.execute(\"select * from temporary where timestamp > '2014-09-26 00:00:00';\").fetchall())\n",
      "meter_readings_curs.execute(\"drop view if exists temporary;\")\n",
      "\n",
      "#meter_reading_tab = pd.DataFrame(meter_readings_curs.execute(\"create view temp as select datetime(substr(timestamp,0,11),'unixepoch','localtime'),reading from readings where type = '1' and timestamp > datetime('2014-09-28 13:00:00','localtime','unixepoch');\").fetchall())\n",
      "#meter_reading_tab = pd.DataFrame(meter_readings_curs.execute(\"create view temp as select datetime(substr(timestamp,0,11),'unixepoch','localtime'),reading from readings where type = '1';\").fetchall())\n",
      "\n",
      "meter_readings_db.commit()\n",
      "meter_readings_db.close()\n",
      "\n",
      "meter_reading_tab"
     ],
     "language": "python",
     "metadata": {},
     "outputs": [
      {
       "html": [
        "<div style=\"max-height:1000px;max-width:1500px;overflow:auto;\">\n",
        "<table border=\"1\" class=\"dataframe\">\n",
        "  <thead>\n",
        "    <tr style=\"text-align: right;\">\n",
        "      <th></th>\n",
        "      <th>0</th>\n",
        "      <th>1</th>\n",
        "    </tr>\n",
        "  </thead>\n",
        "  <tbody>\n",
        "    <tr>\n",
        "      <th>0</th>\n",
        "      <td> 2014-09-26 08:36:00</td>\n",
        "      <td> 27466</td>\n",
        "    </tr>\n",
        "  </tbody>\n",
        "</table>\n",
        "<p>1 rows \u00d7 2 columns</p>\n",
        "</div>"
       ],
       "metadata": {},
       "output_type": "pyout",
       "prompt_number": 429,
       "text": [
        "                     0      1\n",
        "0  2014-09-26 08:36:00  27466\n",
        "\n",
        "[1 rows x 2 columns]"
       ]
      }
     ],
     "prompt_number": 429
    },
    {
     "cell_type": "code",
     "collapsed": false,
     "input": [
      "meter_reading_tab.columns = ['timestamp','reading']\n",
      "\n",
      "meter_reading_tab['timestamp'] = pd.to_datetime(meter_reading_tab['timestamp'])\n",
      "\n",
      "meter_reading_tab['daily'] = meter_reading_tab['reading'].sub(meter_reading_tab['reading'].shift(), fill_value = 0)\n",
      "\n",
      "# Remove the first value which will be a very large number!\n",
      "\n",
      "meter_reading_tab = meter_reading_tab[1:]\n",
      "meter_reading_tab.tail()"
     ],
     "language": "python",
     "metadata": {},
     "outputs": [
      {
       "html": [
        "<div style=\"max-height:1000px;max-width:1500px;overflow:auto;\">\n",
        "<table border=\"1\" class=\"dataframe\">\n",
        "  <tbody>\n",
        "    <tr>\n",
        "      <td>Int64Index([], dtype='int64')</td>\n",
        "      <td>Empty DataFrame</td>\n",
        "    </tr>\n",
        "  </tbody>\n",
        "</table>\n",
        "<p>0 rows \u00d7 3 columns</p>\n",
        "</div>"
       ],
       "metadata": {},
       "output_type": "pyout",
       "prompt_number": 430,
       "text": [
        "Empty DataFrame\n",
        "Columns: [timestamp, reading, daily]\n",
        "Index: []\n",
        "\n",
        "[0 rows x 3 columns]"
       ]
      }
     ],
     "prompt_number": 430
    },
    {
     "cell_type": "code",
     "collapsed": false,
     "input": [
      "plt.subplot(4, 1, 1)\n",
      "plt.plot(temp1['timestamp'],temp1['temp1'])\n",
      "pylab.ylim([temp_lower_limit,temp_upper_limit])\n",
      "\n",
      "plt.subplot(4, 1, 1)\n",
      "plt.plot(temp2['timestamp'],temp2['temp2'])\n",
      "\n",
      "plt.subplot(4, 1, 1)\n",
      "plt.plot(temp3['timestamp'],temp3['temp3'])\n",
      "\n",
      "plt.subplot(4, 1, 1)\n",
      "plt.plot(temp4['timestamp'],temp4['temp4'])\n",
      "\n",
      "plt.subplot(4, 1, 1)\n",
      "plt.plot(temp5['timestamp'],temp5['temp5'])\n",
      "\n",
      "plt.subplot(4, 1, 2)\n",
      "plt.plot(humidity1['timestamp'],humidity1['humidity1'])\n",
      "\n",
      "plt.subplot(4, 1, 2)\n",
      "plt.plot(humidity2['timestamp'],humidity2['humidity2'])\n",
      "\n",
      "plt.subplot(4, 1, 3)\n",
      "plt.gca().invert_yaxis()\n",
      "plt.plot(light1['timestamp'],light1['light1'])\n",
      "\n",
      "plt.subplot(4, 1, 3)\n",
      "plt.plot(light2['timestamp'],light2['light2'])\n",
      "\n",
      "plt.subplot(4, 1, 4)\n",
      "plt.plot(meter_reading_tab['timestamp'],meter_reading_tab['daily'])\n",
      "\n",
      "\n",
      "fig = plt.gcf()\n",
      "fig.set_size_inches(18.5,10.5)\n",
      "\n",
      "#plt.savefig(\"test.png\")\n",
      "#plt.show()"
     ],
     "language": "python",
     "metadata": {},
     "outputs": [
      {
       "metadata": {},
       "output_type": "display_data",
       "png": "[encoded data removed]",
       "text": [
        "<matplotlib.figure.Figure at 0x7fa78c577110>"
       ]
      }
     ],
     "prompt_number": 431
    },
    {
     "cell_type": "code",
     "collapsed": false,
     "input": [
      "#bla <- a$light[1:nrow(a)]-c(a$light[2:nrow(a)],0)\n",
      "#bla <- bla[-length(bla)]\n",
      "\n",
      "bla = light['light'][0:(light['light'].count()-1)]  "
     ],
     "language": "python",
     "metadata": {},
     "outputs": [
      {
       "ename": "NameError",
       "evalue": "name 'light' is not defined",
       "output_type": "pyerr",
       "traceback": [
        "\u001b[0;31m---------------------------------------------------------------------------\u001b[0m\n\u001b[0;31mNameError\u001b[0m                                 Traceback (most recent call last)",
        "\u001b[0;32m<ipython-input-432-263d54fb0b1d>\u001b[0m in \u001b[0;36m<module>\u001b[0;34m()\u001b[0m\n\u001b[1;32m      2\u001b[0m \u001b[0;31m#bla <- bla[-length(bla)]\u001b[0m\u001b[0;34m\u001b[0m\u001b[0;34m\u001b[0m\u001b[0m\n\u001b[1;32m      3\u001b[0m \u001b[0;34m\u001b[0m\u001b[0m\n\u001b[0;32m----> 4\u001b[0;31m \u001b[0mbla\u001b[0m \u001b[0;34m=\u001b[0m \u001b[0mlight\u001b[0m\u001b[0;34m[\u001b[0m\u001b[0;34m'light'\u001b[0m\u001b[0;34m]\u001b[0m\u001b[0;34m[\u001b[0m\u001b[0;36m0\u001b[0m\u001b[0;34m:\u001b[0m\u001b[0;34m(\u001b[0m\u001b[0mlight\u001b[0m\u001b[0;34m[\u001b[0m\u001b[0;34m'light'\u001b[0m\u001b[0;34m]\u001b[0m\u001b[0;34m.\u001b[0m\u001b[0mcount\u001b[0m\u001b[0;34m(\u001b[0m\u001b[0;34m)\u001b[0m\u001b[0;34m-\u001b[0m\u001b[0;36m1\u001b[0m\u001b[0;34m)\u001b[0m\u001b[0;34m]\u001b[0m\u001b[0;34m\u001b[0m\u001b[0m\n\u001b[0m",
        "\u001b[0;31mNameError\u001b[0m: name 'light' is not defined"
       ]
      }
     ],
     "prompt_number": 432
    },
    {
     "cell_type": "code",
     "collapsed": false,
     "input": [
      "bla1 = [light['light'][1:(light['light'].count())]]"
     ],
     "language": "python",
     "metadata": {},
     "outputs": []
    },
    {
     "cell_type": "code",
     "collapsed": false,
     "input": [
      "bla1.subt"
     ],
     "language": "python",
     "metadata": {},
     "outputs": []
    },
    {
     "cell_type": "code",
     "collapsed": false,
     "input": [
      "plt.subplot(2, 1, 1)\n",
      "plt.plot(bla)\n",
      "\n",
      "plt.subplot(2, 1, 1)\n",
      "plt.plot(bla1)"
     ],
     "language": "python",
     "metadata": {},
     "outputs": []
    },
    {
     "cell_type": "code",
     "collapsed": false,
     "input": [
      "light = 12\n",
      "if light == 0:\n",
      "    light = str(\"NA\")\n",
      "\n",
      "print light"
     ],
     "language": "python",
     "metadata": {},
     "outputs": []
    }
   ],
   "metadata": {}
  }
 ]
}